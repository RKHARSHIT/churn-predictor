{
 "cells": [
  {
   "cell_type": "markdown",
   "id": "b8a1672d",
   "metadata": {},
   "source": [
    "## 1. Setup & Imports"
   ]
  },
  {
   "cell_type": "code",
   "execution_count": 1,
   "id": "4c0eb478",
   "metadata": {},
   "outputs": [],
   "source": [
    "import pandas as pd\n",
    "import numpy as np\n",
    "import joblib\n",
    "from sklearn.metrics import classification_report, roc_auc_score, confusion_matrix"
   ]
  },
  {
   "cell_type": "markdown",
   "id": "82c028f3",
   "metadata": {},
   "source": [
    "## 2. Load Preprocessed Data"
   ]
  },
  {
   "cell_type": "code",
   "execution_count": 2,
   "id": "92133f4b",
   "metadata": {},
   "outputs": [],
   "source": [
    "X_train = pd.read_csv(\"D:/Project/data/X_train.csv\")\n",
    "X_test = pd.read_csv(\"D:/Project/data/X_test.csv\")\n",
    "y_train = pd.read_csv(\"D:/Project/data/y_train.csv\")\n",
    "y_test = pd.read_csv(\"D:/Project/data/y_test.csv\")"
   ]
  },
  {
   "cell_type": "markdown",
   "id": "a26864a2",
   "metadata": {},
   "source": [
    "## 3. Load Model and Scaler"
   ]
  },
  {
   "cell_type": "code",
   "execution_count": 3,
   "id": "78964ce4",
   "metadata": {},
   "outputs": [
    {
     "name": "stdout",
     "output_type": "stream",
     "text": [
      "[1 1 0 ... 0 0 0]\n"
     ]
    }
   ],
   "source": [
    "# Loading saved Data\n",
    "loaded_model = joblib.load('D:/Project/model/logistic_model.pkl')\n",
    "loaded_scaler = joblib.load('D:/Project/model/scaler.pkl')\n",
    "\n",
    "# Applying scaler to numeric columns\n",
    "num_cols = ['tenure', 'MonthlyCharges', 'TotalCharges', 'NumServicesUsed']\n",
    "X_test[num_cols] = loaded_scaler.transform(X_test[num_cols])\n",
    "\n",
    "# Checking Model\n",
    "preds = loaded_model.predict(X_test)\n",
    "print(preds)"
   ]
  },
  {
   "cell_type": "markdown",
   "id": "81d3c21c",
   "metadata": {},
   "source": [
    "## 4. Evaluate Model"
   ]
  },
  {
   "cell_type": "code",
   "execution_count": 4,
   "id": "83e2c3ab",
   "metadata": {},
   "outputs": [
    {
     "name": "stdout",
     "output_type": "stream",
     "text": [
      "              precision    recall  f1-score   support\n",
      "\n",
      "           0       0.95      0.29      0.44      1033\n",
      "           1       0.33      0.96      0.49       374\n",
      "\n",
      "    accuracy                           0.47      1407\n",
      "   macro avg       0.64      0.62      0.46      1407\n",
      "weighted avg       0.79      0.47      0.45      1407\n",
      "\n",
      "ROC AUC Score: 0.7691747208431907\n"
     ]
    }
   ],
   "source": [
    "print(classification_report(y_test,preds))\n",
    "print(\"ROC AUC Score:\",roc_auc_score(y_test,loaded_model.predict_proba(X_test)[:,1]))"
   ]
  },
  {
   "cell_type": "markdown",
   "id": "ab3034ed",
   "metadata": {},
   "source": [
    "## 5. Saving Prediction Example"
   ]
  },
  {
   "cell_type": "code",
   "execution_count": 5,
   "id": "30da598b",
   "metadata": {},
   "outputs": [
    {
     "name": "stdout",
     "output_type": "stream",
     "text": [
      "Predicted Class: 1\n"
     ]
    }
   ],
   "source": [
    "sample = X_test.iloc[[0]].copy()\n",
    "sample[num_cols] = loaded_scaler.transform(sample[num_cols])\n",
    "\n",
    "predicted_class = loaded_model.predict(sample)[0]\n",
    "print(\"Predicted Class:\", predicted_class)"
   ]
  },
  {
   "cell_type": "code",
   "execution_count": 6,
   "id": "78d4ce31",
   "metadata": {},
   "outputs": [
    {
     "name": "stdout",
     "output_type": "stream",
     "text": [
      "Predicted Class: Churn\n",
      "Probability of No Churn: 0.45\n",
      "Probability of Churn:    0.55\n"
     ]
    }
   ],
   "source": [
    "proba = loaded_model.predict_proba(sample)[0]\n",
    "\n",
    "print(f\"Predicted Class: {'Churn' if predicted_class == 1 else 'No Churn'}\")\n",
    "print(f\"Probability of No Churn: {proba[0]:.2f}\")\n",
    "print(f\"Probability of Churn:    {proba[1]:.2f}\")"
   ]
  },
  {
   "cell_type": "code",
   "execution_count": 7,
   "id": "00462086",
   "metadata": {},
   "outputs": [],
   "source": [
    "def predict_customer_churn(sample, model, scaler, num_cols):\n",
    "    \"\"\"\n",
    "    Predict churn for a single customer sample.\n",
    "\n",
    "    Parameters:\n",
    "        sample (DataFrame): Single-row DataFrame with customer data\n",
    "        model (sklearn model): Trained classification model\n",
    "        scaler (StandardScaler): Fitted scaler for numeric features\n",
    "        num_cols (list): List of numeric columns that require scaling\n",
    "\n",
    "    Returns:\n",
    "        dict: Dictionary with predicted class and probabilities\n",
    "    \"\"\"\n",
    "    # Make a copy to avoid modifying original input\n",
    "    sample_copy = sample.copy()\n",
    "    \n",
    "    # Scale numeric columns\n",
    "    sample_copy[num_cols] = scaler.transform(sample_copy[num_cols])\n",
    "    \n",
    "    # Predict class and probabilities\n",
    "    pred_class = model.predict(sample_copy)[0]\n",
    "    proba = model.predict_proba(sample_copy)[0]\n",
    "\n",
    "    return {\n",
    "        \"predicted_class\": \"Churn\" if pred_class == 1 else \"No Churn\",\n",
    "        \"probability_churn\": round(proba[1], 2),\n",
    "        \"probability_no_churn\": round(proba[0], 2)\n",
    "    }\n"
   ]
  },
  {
   "cell_type": "code",
   "execution_count": 8,
   "id": "01b1b096",
   "metadata": {},
   "outputs": [
    {
     "name": "stdout",
     "output_type": "stream",
     "text": [
      "{'predicted_class': 'Churn', 'probability_churn': 0.55, 'probability_no_churn': 0.45}\n"
     ]
    }
   ],
   "source": [
    "# Define numeric columns\n",
    "num_cols = ['tenure', 'MonthlyCharges', 'TotalCharges', 'NumServicesUsed']\n",
    "\n",
    "# Pick a sample\n",
    "sample = X_test.iloc[[0]]\n",
    "\n",
    "# Call the function\n",
    "result = predict_customer_churn(sample, loaded_model, loaded_scaler, num_cols)\n",
    "\n",
    "# Show the result\n",
    "print(result)\n"
   ]
  }
 ],
 "metadata": {
  "kernelspec": {
   "display_name": "Python 3 (ipykernel)",
   "language": "python",
   "name": "python3"
  },
  "language_info": {
   "codemirror_mode": {
    "name": "ipython",
    "version": 3
   },
   "file_extension": ".py",
   "mimetype": "text/x-python",
   "name": "python",
   "nbconvert_exporter": "python",
   "pygments_lexer": "ipython3",
   "version": "3.11.1"
  }
 },
 "nbformat": 4,
 "nbformat_minor": 5
}
